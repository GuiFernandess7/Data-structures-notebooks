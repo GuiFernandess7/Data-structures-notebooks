{
 "cells": [
  {
   "cell_type": "markdown",
   "metadata": {},
   "source": [
    "### Implementation 1"
   ]
  },
  {
   "cell_type": "code",
   "execution_count": 2,
   "metadata": {},
   "outputs": [
    {
     "name": "stdout",
     "output_type": "stream",
     "text": [
      "[1, 2, 3, 4, 5, 6, 7, 8]\n"
     ]
    }
   ],
   "source": [
    "def quicksort(A, low=0, hi=None):\n",
    "    if hi is None:\n",
    "        hi = len(A)-1\n",
    "    if low < hi:\n",
    "        p = partition(A, low, hi)\n",
    "        quicksort(A, low, p-1)\n",
    "        quicksort(A, p+1, hi)\n",
    "\n",
    "def partition(A, low, hi):\n",
    "    \"\"\"Pivot is the last in the right\"\"\"\n",
    "    pivot = A[hi]\n",
    "    i = low\n",
    "    for j in range(low, hi):\n",
    "        if A[j] <= pivot:\n",
    "            A[j], A[i] = A[i], A[j]\n",
    "            i += 1\n",
    "    A[i], A[hi] = A[hi], A[i]\n",
    "\n",
    "    return i\n",
    "\n",
    "A = [6, 5, 3, 1, 8, 7, 2, 4]\n",
    "quicksort(A)\n",
    "print(A)"
   ]
  },
  {
   "cell_type": "markdown",
   "metadata": {},
   "source": [
    "### Implementation 2"
   ]
  },
  {
   "cell_type": "code",
   "execution_count": 2,
   "metadata": {},
   "outputs": [
    {
     "name": "stdout",
     "output_type": "stream",
     "text": [
      "[1, 2, 3, 4, 5, 6, 7, 8]\n"
     ]
    }
   ],
   "source": [
    "def quicksort(A):\n",
    "    sort(A, 0, len(A) - 1)\n",
    "\n",
    "def partition(A, low, hi):\n",
    "    pivot_index = get_pivot(A, low, hi)\n",
    "    pivot_value = A[pivot_index]\n",
    "    A[pivot_index], A[low] = A[low], A[pivot_index]\n",
    "    border = low\n",
    "\n",
    "    for i in range(low, hi + 1):\n",
    "        if A[i] < pivot_value:\n",
    "            border += 1\n",
    "            A[i], A[border] = A[border], A[i]\n",
    "    A[low], A[border] = A[border], A[low]\n",
    "\n",
    "    return border\n",
    "\n",
    "def get_pivot(A, low, hi):\n",
    "    \"\"\"Pivot is the median of three values\"\"\"\n",
    "    mid = (low + hi) // 2\n",
    "    pivot = hi\n",
    "    if A[low] < A[mid]:\n",
    "        if A[mid] < A[hi]:\n",
    "            pivot = mid\n",
    "    elif A[low] < A[hi]:\n",
    "        pivot = low\n",
    "    return pivot\n",
    "\n",
    "def sort(A, low, hi):\n",
    "    if low < hi:\n",
    "        border = partition(A, low, hi)\n",
    "        sort(A, low, border - 1)\n",
    "        sort(A, border + 1, hi)\n",
    "\n",
    "A = [6, 5, 3, 1, 8, 7, 2, 4]\n",
    "quicksort(A)\n",
    "print(A)"
   ]
  }
 ],
 "metadata": {
  "kernelspec": {
   "display_name": "Python 3",
   "language": "python",
   "name": "python3"
  },
  "language_info": {
   "codemirror_mode": {
    "name": "ipython",
    "version": 3
   },
   "file_extension": ".py",
   "mimetype": "text/x-python",
   "name": "python",
   "nbconvert_exporter": "python",
   "pygments_lexer": "ipython3",
   "version": "3.10.7"
  }
 },
 "nbformat": 4,
 "nbformat_minor": 2
}
