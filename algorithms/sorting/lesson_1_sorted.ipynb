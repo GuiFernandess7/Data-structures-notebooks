{
 "cells": [
  {
   "cell_type": "markdown",
   "metadata": {},
   "source": [
    "### Python sorted built-in function"
   ]
  },
  {
   "cell_type": "code",
   "execution_count": 1,
   "metadata": {},
   "outputs": [
    {
     "name": "stdout",
     "output_type": "stream",
     "text": [
      "[1, 2, 2, 7, 8, 34, 65]\n"
     ]
    }
   ],
   "source": [
    "letters = ['a', 'd', 'z', 'e', 'r', 'b']\n",
    "basket = [2, 65, 34, 2, 1, 7, 8]\n",
    "\n",
    "print(sorted(basket))"
   ]
  },
  {
   "cell_type": "code",
   "execution_count": 3,
   "metadata": {},
   "outputs": [
    {
     "name": "stdout",
     "output_type": "stream",
     "text": [
      "['a', 'b', 'd', 'e', 'r', 'z']\n"
     ]
    }
   ],
   "source": [
    "print(sorted(letters))"
   ]
  },
  {
   "cell_type": "code",
   "execution_count": 4,
   "metadata": {},
   "outputs": [
    {
     "name": "stdout",
     "output_type": "stream",
     "text": [
      "['cosas', 'fútbol', 'árbol', 'único']\n"
     ]
    }
   ],
   "source": [
    "words = ['único', 'árbol', 'cosas', 'fútbol']\n",
    "print(sorted(words))"
   ]
  }
 ],
 "metadata": {
  "kernelspec": {
   "display_name": "Python 3",
   "language": "python",
   "name": "python3"
  },
  "language_info": {
   "codemirror_mode": {
    "name": "ipython",
    "version": 3
   },
   "file_extension": ".py",
   "mimetype": "text/x-python",
   "name": "python",
   "nbconvert_exporter": "python",
   "pygments_lexer": "ipython3",
   "version": "3.10.7"
  }
 },
 "nbformat": 4,
 "nbformat_minor": 2
}
