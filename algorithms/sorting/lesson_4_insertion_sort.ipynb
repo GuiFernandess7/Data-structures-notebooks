{
 "cells": [
  {
   "cell_type": "markdown",
   "metadata": {},
   "source": [
    "## Insertion Sort"
   ]
  },
  {
   "cell_type": "markdown",
   "metadata": {},
   "source": [
    "### Nested loops dynamic"
   ]
  },
  {
   "cell_type": "code",
   "execution_count": 21,
   "metadata": {},
   "outputs": [
    {
     "name": "stdout",
     "output_type": "stream",
     "text": [
      "Comparing 5 to 6\n",
      "-----------\n",
      "Comparing 3 to 5\n",
      "Comparing 3 to 6\n",
      "-----------\n",
      "Comparing 1 to 3\n",
      "Comparing 1 to 5\n",
      "Comparing 1 to 6\n",
      "-----------\n",
      "Comparing 8 to 1\n",
      "Comparing 8 to 3\n",
      "Comparing 8 to 5\n",
      "Comparing 8 to 6\n",
      "-----------\n",
      "Comparing 7 to 8\n",
      "Comparing 7 to 1\n",
      "Comparing 7 to 3\n",
      "Comparing 7 to 5\n",
      "Comparing 7 to 6\n",
      "-----------\n",
      "Comparing 2 to 7\n",
      "Comparing 2 to 8\n",
      "Comparing 2 to 1\n",
      "Comparing 2 to 3\n",
      "Comparing 2 to 5\n",
      "Comparing 2 to 6\n",
      "-----------\n",
      "Comparing 4 to 2\n",
      "Comparing 4 to 7\n",
      "Comparing 4 to 8\n",
      "Comparing 4 to 1\n",
      "Comparing 4 to 3\n",
      "Comparing 4 to 5\n",
      "Comparing 4 to 6\n",
      "-----------\n"
     ]
    }
   ],
   "source": [
    "arr = [6, 5, 3, 1, 8, 7, 2, 4]\n",
    "def insertion_sort(arr):\n",
    "    for i in range(1, len(arr)):\n",
    "        for j in range(i - 1, -1, -1):\n",
    "            print(f'Comparing {arr[i]} to {arr[j]}')\n",
    "        print('-----------')\n",
    "\n",
    "insertion_sort(arr)"
   ]
  },
  {
   "cell_type": "code",
   "execution_count": 26,
   "metadata": {},
   "outputs": [
    {
     "name": "stdout",
     "output_type": "stream",
     "text": [
      "6 is greater than 5\n",
      "5 is greater than 3\n",
      "6 is greater than 5\n",
      "3 is greater than 1\n",
      "5 is greater than 3\n",
      "6 is greater than 5\n",
      "8 is greater than 7\n",
      "7 is greater than 2\n",
      "8 is greater than 7\n"
     ]
    }
   ],
   "source": [
    "arr = [6, 5, 3, 1, 8, 7, 2, 4]\n",
    "def insertion_sort(arr):\n",
    "    for i in range(1, len(arr)):\n",
    "        for j in range(i - 1, -1, -1):\n",
    "            if arr[j] > arr[j + 1]:\n",
    "                print(f'{arr[j]} is greater than {arr[j + 1]}')\n",
    "            else:\n",
    "                break\n",
    "    #return arr\n",
    "\n",
    "insertion_sort(arr)"
   ]
  },
  {
   "cell_type": "code",
   "execution_count": 27,
   "metadata": {},
   "outputs": [
    {
     "data": {
      "text/plain": [
       "[1, 2, 3, 4, 5, 6, 7, 8]"
      ]
     },
     "execution_count": 27,
     "metadata": {},
     "output_type": "execute_result"
    }
   ],
   "source": [
    "arr = [6, 5, 3, 1, 8, 7, 2, 4]\n",
    "def insertion_sort(arr):\n",
    "    for i in range(1, len(arr)):\n",
    "        for j in range(i - 1, -1, -1):\n",
    "            if arr[j] > arr[j + 1]:\n",
    "                arr[j], arr[j + 1] = arr[j + 1], arr[j]\n",
    "            else:\n",
    "                break\n",
    "    return arr\n",
    "\n",
    "insertion_sort(arr)"
   ]
  },
  {
   "cell_type": "code",
   "execution_count": 19,
   "metadata": {},
   "outputs": [
    {
     "name": "stdout",
     "output_type": "stream",
     "text": [
      "[1, 2, 3, 4, 5, 6, 7, 8]\n"
     ]
    }
   ],
   "source": [
    "arr = [6, 5, 3, 1, 8, 7, 2, 4]\n",
    "\n",
    "def insertion_sort(arr):\n",
    "    for i in range(1, len(arr)):\n",
    "        cur_num = arr[i]\n",
    "        j = i - 1\n",
    "        while j >= 0 and arr[j] > cur_num:\n",
    "            arr[j + 1] = arr[j]\n",
    "            j -= 1\n",
    "        arr[j + 1] = cur_num\n",
    "\n",
    "    return arr\n",
    "\n",
    "print(insertion_sort(arr))\n"
   ]
  }
 ],
 "metadata": {
  "kernelspec": {
   "display_name": "Python 3",
   "language": "python",
   "name": "python3"
  },
  "language_info": {
   "codemirror_mode": {
    "name": "ipython",
    "version": 3
   },
   "file_extension": ".py",
   "mimetype": "text/x-python",
   "name": "python",
   "nbconvert_exporter": "python",
   "pygments_lexer": "ipython3",
   "version": "3.10.7"
  }
 },
 "nbformat": 4,
 "nbformat_minor": 2
}
