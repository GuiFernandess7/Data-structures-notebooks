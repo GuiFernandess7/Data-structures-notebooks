{
 "cells": [
  {
   "cell_type": "markdown",
   "metadata": {},
   "source": [
    "## Bubble Sort"
   ]
  },
  {
   "cell_type": "markdown",
   "metadata": {},
   "source": [
    "Bubble Sort is a simple sorting algorithm that repeatedly steps through the list, compares adjacent elements, and swaps them if they are in the wrong order. The pass through the list is repeated until the entire list is sorted.\n",
    "\n",
    "Here's a brief overview of how the Bubble Sort algorithm works:\n",
    "\n",
    "Basic Idea:\n",
    "-    Start from the beginning of the list.\n",
    "-    Compare each pair of adjacent elements.\n",
    "-    If they are in the wrong order (out of order), swap them.\n",
    "\n",
    "Passes:\n",
    "-    After the first pass, the largest element is guaranteed to be at the end of the list.\n",
    "-    After the second pass, the second-largest element is in its final place.\n",
    "-    The process repeats, with each pass ensuring that the next largest element is in its correct position.\n",
    "\n",
    "Optimization:\n",
    "-    Bubble Sort can be optimized by adding a flag that checks whether any swaps were made during a pass.\n",
    "-    If no swaps are made in a pass, the list is already sorted, and the algorithm can terminate early.\n",
    "\n",
    "Complexity:\n",
    "-    Time Complexity: O(n2)O(n2) in the worst and average case.\n",
    "-    Space Complexity: O(1)O(1) because only a constant amount of additional space is used.\n",
    "\n",
    "Advantages and Disadvantages:\n",
    "-    Advantages: Simple to understand and implement.\n",
    "-    Disadvantages: Inefficient for large datasets, especially when compared to more advanced sorting algorithms.\n",
    "\n",
    "While Bubble Sort is not commonly used in practice for large datasets due to its inefficiency, it serves as a straightforward algorithm for educational purposes and basic understanding of sorting concepts."
   ]
  },
  {
   "cell_type": "code",
   "execution_count": 75,
   "metadata": {},
   "outputs": [
    {
     "name": "stdout",
     "output_type": "stream",
     "text": [
      "[5, 3, 1, 1, 7, 2, 2, 4]\n"
     ]
    }
   ],
   "source": [
    "arr = [6, 5, 3, 1, 8, 7, 2, 4]\n",
    "\n",
    "# First attempt\n",
    "def custom_sort(arr):\n",
    "    prev = arr[0]\n",
    "    for idx, num in enumerate(arr[1:]):\n",
    "        if prev > num:\n",
    "            arr[idx] = num\n",
    "            arr[idx + 1] = prev\n",
    "        elif num > prev:\n",
    "            arr[idx] = prev\n",
    "            arr[idx + 1] = num\n",
    "\n",
    "        #if num < len(arr):\n",
    "        prev = num\n",
    "\n",
    "    return arr\n",
    "\n",
    "print(custom_sort(arr=arr))"
   ]
  },
  {
   "cell_type": "code",
   "execution_count": 89,
   "metadata": {},
   "outputs": [
    {
     "name": "stdout",
     "output_type": "stream",
     "text": [
      "[5, 3, 1, 6, 7, 2, 4, 8]\n"
     ]
    }
   ],
   "source": [
    "arr = [6, 5, 3, 1, 8, 7, 2, 4]\n",
    "\n",
    "# Second attempt\n",
    "def custom_sort(arr):\n",
    "    for idx in range(len(arr) - 1):\n",
    "        num = arr[idx]\n",
    "        next_num = arr[idx + 1]\n",
    "\n",
    "        if num > next_num:\n",
    "            arr[idx] = next_num\n",
    "            arr[idx + 1] = num\n",
    "\n",
    "    return arr\n",
    "\n",
    "print(custom_sort(arr))"
   ]
  },
  {
   "cell_type": "markdown",
   "metadata": {},
   "source": [
    "### Solution"
   ]
  },
  {
   "cell_type": "code",
   "execution_count": 91,
   "metadata": {},
   "outputs": [
    {
     "name": "stdout",
     "output_type": "stream",
     "text": [
      "[1, 2, 3, 4, 5, 6, 7, 8]\n"
     ]
    }
   ],
   "source": [
    "arr = [6, 5, 3, 1, 8, 7, 2, 4]\n",
    "def bubble_sort(arr):\n",
    "    for i in range(0, len(arr) - 1):\n",
    "        for j in range(0, len(arr) - 1 - i):\n",
    "            if arr[j] > arr[j+1]:\n",
    "                arr[j], arr[j+1] = arr[j+1], arr[j]\n",
    "    return arr\n",
    "\n",
    "print(bubble_sort(arr))"
   ]
  }
 ],
 "metadata": {
  "kernelspec": {
   "display_name": "Python 3",
   "language": "python",
   "name": "python3"
  },
  "language_info": {
   "codemirror_mode": {
    "name": "ipython",
    "version": 3
   },
   "file_extension": ".py",
   "mimetype": "text/x-python",
   "name": "python",
   "nbconvert_exporter": "python",
   "pygments_lexer": "ipython3",
   "version": "3.10.7"
  }
 },
 "nbformat": 4,
 "nbformat_minor": 2
}
