{
 "cells": [
  {
   "cell_type": "markdown",
   "metadata": {},
   "source": [
    "# Stacks, Queues & Heaps\n",
    "\n",
    "### Stack using Python List\n",
    "Stack is a LIFO data structure -- last-in, first-out.  \n",
    "Use append() to push an item onto the stack.  \n",
    "Use pop() to remove an item."
   ]
  },
  {
   "cell_type": "code",
   "execution_count": 2,
   "metadata": {
    "scrolled": true
   },
   "outputs": [
    {
     "name": "stdout",
     "output_type": "stream",
     "text": [
      "[4, 7, 12, 19]\n"
     ]
    }
   ],
   "source": [
    "my_stack = list()\n",
    "my_stack.append(4)\n",
    "my_stack.append(7)\n",
    "my_stack.append(12)\n",
    "my_stack.append(19)\n",
    "print(my_stack)"
   ]
  },
  {
   "cell_type": "code",
   "execution_count": 3,
   "metadata": {},
   "outputs": [
    {
     "name": "stdout",
     "output_type": "stream",
     "text": [
      "19\n",
      "12\n",
      "[4, 7]\n"
     ]
    }
   ],
   "source": [
    "print(my_stack.pop())\n",
    "print(my_stack.pop())\n",
    "print(my_stack)"
   ]
  },
  {
   "cell_type": "markdown",
   "metadata": {},
   "source": [
    "### Stack using List with a Wrapper Class\n",
    "We create a Stack class and a full set of Stack methods.  \n",
    "But the underlying data structure is really a Python List.  \n",
    "For pop and peek methods we first check whether the stack is empty, to avoid exceptions."
   ]
  },
  {
   "cell_type": "code",
   "execution_count": 4,
   "metadata": {},
   "outputs": [],
   "source": [
    "class Stack():\n",
    "    def __init__(self):\n",
    "        self.stack = list()\n",
    "    def push(self, item):\n",
    "        self.stack.append(item)\n",
    "    def pop(self):\n",
    "        if len(self.stack) > 0:\n",
    "            return self.stack.pop()\n",
    "        else:\n",
    "            return None\n",
    "    def peek(self):\n",
    "        if len(self.stack) > 0:\n",
    "            return self.stack[len(self.stack)-1]\n",
    "        else:\n",
    "            return None\n",
    "    def __str__(self):\n",
    "        return str(self.stack)"
   ]
  },
  {
   "cell_type": "markdown",
   "metadata": {},
   "source": [
    "### Test Code for Stack Wrapper Class"
   ]
  },
  {
   "cell_type": "code",
   "execution_count": 5,
   "metadata": {},
   "outputs": [
    {
     "name": "stdout",
     "output_type": "stream",
     "text": [
      "[1, 3]\n",
      "3\n",
      "1\n",
      "1\n",
      "None\n"
     ]
    }
   ],
   "source": [
    "my_stack = Stack()\n",
    "my_stack.push(1)\n",
    "my_stack.push(3)\n",
    "print(my_stack)\n",
    "print(my_stack.pop())\n",
    "print(my_stack.peek())\n",
    "print(my_stack.pop())\n",
    "print(my_stack.pop())"
   ]
  },
  {
   "cell_type": "markdown",
   "metadata": {},
   "source": [
    "---\n",
    "### Queue using Python Deque\n",
    "Queue is a FIFO data structure -- first-in, first-out.  \n",
    "Deque is a double-ended queue, but we can use it for our queue.  \n",
    "We use append() to enqueue an item, and popleft() to dequeue an item.  \n",
    "See [Python docs](https://docs.python.org/3/library/collections.html#collections.deque) for deque."
   ]
  },
  {
   "cell_type": "code",
   "execution_count": 6,
   "metadata": {},
   "outputs": [
    {
     "name": "stdout",
     "output_type": "stream",
     "text": [
      "deque([5, 10])\n",
      "5\n"
     ]
    }
   ],
   "source": [
    "from collections import deque\n",
    "my_queue = deque()\n",
    "my_queue.append(5)\n",
    "my_queue.append(10)\n",
    "print(my_queue)\n",
    "print(my_queue.popleft())"
   ]
  },
  {
   "cell_type": "markdown",
   "metadata": {},
   "source": [
    "### Fun exercise:\n",
    "Write a wrapper class for the Queue class, similar to what we did for Stack, but using Python deque.  \n",
    "Try adding enqueue, dequeue, and get_size methods."
   ]
  },
  {
   "cell_type": "markdown",
   "metadata": {},
   "source": [
    "### Python Single-ended Queue Wrapper Class using Deque\n",
    "We rename the append method to enqueue, and popleft to dequeue.  \n",
    "We also add peek and get_size operations."
   ]
  },
  {
   "cell_type": "code",
   "execution_count": 18,
   "metadata": {},
   "outputs": [],
   "source": [
    "from collections import deque\n",
    "class Queue():\n",
    "    def __init__(self):\n",
    "        self.queue = deque()\n",
    "        self.size = 0\n",
    "    def enqueue(self, item):\n",
    "        self.queue.append(item)\n",
    "        self.size += 1\n",
    "    def dequeue(self):\n",
    "        if self.size > 0:\n",
    "            self.size -= 1\n",
    "            return self.queue.popleft()\n",
    "        else:\n",
    "            return None\n",
    "    def peek(self):\n",
    "        if self.size > 0:\n",
    "            ret_val = self.queue.popleft()\n",
    "            self.queue.appendleft(ret_val)\n",
    "            return ret_val\n",
    "        else:\n",
    "            return None\n",
    "    def get_size(self):\n",
    "        return self.size\n",
    "    def __str__(self):\n",
    "        return str(self.queue)"
   ]
  },
  {
   "cell_type": "code",
   "execution_count": 8,
   "metadata": {},
   "outputs": [
    {
     "name": "stdout",
     "output_type": "stream",
     "text": [
      "deque([5, 9, 4, 2])\n"
     ]
    }
   ],
   "source": [
    "fila = Queue()\n",
    "fila.enqueue(5)\n",
    "fila.enqueue(9)\n",
    "fila.enqueue(4)\n",
    "fila.enqueue(2)\n",
    "print(fila)"
   ]
  },
  {
   "cell_type": "code",
   "execution_count": 9,
   "metadata": {},
   "outputs": [
    {
     "name": "stdout",
     "output_type": "stream",
     "text": [
      "4\n"
     ]
    }
   ],
   "source": [
    "length = fila.get_size()\n",
    "print(length)"
   ]
  },
  {
   "cell_type": "code",
   "execution_count": 14,
   "metadata": {},
   "outputs": [
    {
     "name": "stdout",
     "output_type": "stream",
     "text": [
      "deque([1, 2, 3, 4, 5, 6, 7, 8, 9, 10, 11, 12, 13, 14])\n"
     ]
    }
   ],
   "source": [
    "fila2 = Queue()\n",
    "for n in range(15):\n",
    "    fila2.enqueue(n)\n",
    "fila2.dequeue()\n",
    "print(fila2)"
   ]
  },
  {
   "cell_type": "code",
   "execution_count": 16,
   "metadata": {},
   "outputs": [
    {
     "name": "stdout",
     "output_type": "stream",
     "text": [
      "deque([2, 3, 4, 5, 6, 7, 8, 9, 10, 11, 12, 13, 14])\n"
     ]
    }
   ],
   "source": [
    "fila2.dequeue()\n",
    "print(fila2)"
   ]
  },
  {
   "cell_type": "code",
   "execution_count": 21,
   "metadata": {},
   "outputs": [
    {
     "name": "stdout",
     "output_type": "stream",
     "text": [
      "deque([11, 12, 13, 14, 15, 16, 17, 18, 19])\n"
     ]
    }
   ],
   "source": [
    "fila3 = Queue()\n",
    "for n in range(10, 20):\n",
    "    fila3.enqueue(n)\n",
    "fila3.dequeue()\n",
    "fila3.peek()\n",
    "print(fila3)"
   ]
  },
  {
   "cell_type": "code",
   "execution_count": 29,
   "metadata": {},
   "outputs": [
    {
     "name": "stdout",
     "output_type": "stream",
     "text": [
      "12\n"
     ]
    }
   ],
   "source": [
    "print(fila3.peek())"
   ]
  },
  {
   "cell_type": "markdown",
   "metadata": {},
   "source": [
    "### Python MaxHeap\n",
    "A MaxHeap always bubbles the highest value to the top, so it can be removed instantly.  \n",
    "Public functions: push, peek, pop  \n",
    "Private functions: __swap, __floatUp, __bubbleDown, __str__."
   ]
  },
  {
   "cell_type": "code",
   "execution_count": 31,
   "metadata": {},
   "outputs": [],
   "source": [
    "class MaxHeap:\n",
    "    def __init__(self, items=[]):\n",
    "        super().__init__()\n",
    "        # o self.heap inicia com um zero pois esse não contará\n",
    "        self.heap = [0]\n",
    "        for item in items:\n",
    "            # Para cada item dentro da lista\n",
    "            # A lista irá adicioná-lo\n",
    "            self.heap.append(item)\n",
    "            # O último valor sobe de nível e se torna o nó raiz\n",
    "            self.__floatUp(len(self.heap) - 1)\n",
    "\n",
    "    def push(self, data):\n",
    "        # Adiciona o valor passado na função\n",
    "        self.heap.append(data)\n",
    "        # O valor sobe de nível\n",
    "        self.__floatUp(len(self.heap) - 1)\n",
    "\n",
    "    def peek(self):\n",
    "        # Se há um valor que não seja o zero na lista, retorne-o\n",
    "        if self.heap[1]:\n",
    "            return self.heap[1]\n",
    "        else:\n",
    "            # Caso contrário, retorne false\n",
    "            return False\n",
    "\n",
    "    def pop(self):\n",
    "        # Se o tamanho da lista for maior que 2:\n",
    "        if len(self.heap) > 2:\n",
    "            # O valor que estiver na posição 1 (nó raiz), troca com o valor do último nó\n",
    "            self.__swap(1, len(self.heap) - 1)\n",
    "            # O último valor (antes o nó raiz) é excluído\n",
    "            max = self.heap.pop()\n",
    "            # O 1 é o índice.\n",
    "            self.__bubbleDown(1)\n",
    "        # Se o tamanho da lista for 2, só há um valor pois o zero não conta\n",
    "        elif len(self.heap) == 2:\n",
    "            # Assim, o único valor passado é excluído\n",
    "            max = self.heap.pop()\n",
    "        else:\n",
    "            max = False\n",
    "        return max\n",
    "\n",
    "    def __swap(self, i, j):\n",
    "        self.heap[i], self.heap[j] = self.heap[j], self.heap[i]\n",
    "\n",
    "    def __floatUp(self, index):\n",
    "        parent = index//2\n",
    "        if index <= 1:\n",
    "            return\n",
    "        elif self.heap[index] > self.heap[parent]:\n",
    "            self.__swap(index, parent)\n",
    "            self.__floatUp(parent)\n",
    "\n",
    "    def __bubbleDown(self, index):\n",
    "        # Seguindo a equação 2k + 1 (se for o nó filho direito) e 2k + 2 (se for o nó filho esquerdo)\n",
    "        left = index * 2\n",
    "        right = index * 2 + 1\n",
    "        largest = index\n",
    "        if len(self.heap) > left and self.heap[largest] < self.heap[left]:\n",
    "            largest = left\n",
    "        if len(self.heap) > right and self.heap[largest] < self.heap[right]:\n",
    "            largest = right\n",
    "        if largest != index:\n",
    "            self.__swap(index, largest)\n",
    "            self.__bubbleDown(largest)\n",
    "\n",
    "    def __str__(self):\n",
    "        return str(self.heap)"
   ]
  },
  {
   "cell_type": "markdown",
   "metadata": {},
   "source": [
    "### MaxHeap Test Code"
   ]
  },
  {
   "cell_type": "code",
   "execution_count": 12,
   "metadata": {},
   "outputs": [
    {
     "name": "stdout",
     "output_type": "stream",
     "text": [
      "[0, 95, 10, 21, 3]\n",
      "95\n",
      "21\n"
     ]
    }
   ],
   "source": [
    "m = MaxHeap([95, 3, 21])\n",
    "m.push(10)\n",
    "print(m)\n",
    "print(m.pop())\n",
    "print(m.peek())"
   ]
  },
  {
   "cell_type": "code",
   "execution_count": 33,
   "metadata": {},
   "outputs": [
    {
     "name": "stdout",
     "output_type": "stream",
     "text": [
      "[0, 56, 21, 34, 20, 15, 19]\n",
      "[0, 56, 21, 34, 20, 15, 19, 24]\n",
      "56\n"
     ]
    }
   ],
   "source": [
    "items = MaxHeap([21, 34, 56, 20, 15, 19])\n",
    "print(items)\n",
    "items.push(24)\n",
    "print(items)\n",
    "valor_1 = items.peek()\n",
    "print(valor_1)"
   ]
  }
 ],
 "metadata": {
  "kernelspec": {
   "display_name": "Python 3 (ipykernel)",
   "language": "python",
   "name": "python3"
  },
  "language_info": {
   "codemirror_mode": {
    "name": "ipython",
    "version": 3
   },
   "file_extension": ".py",
   "mimetype": "text/x-python",
   "name": "python",
   "nbconvert_exporter": "python",
   "pygments_lexer": "ipython3",
   "version": "3.10.3"
  }
 },
 "nbformat": 4,
 "nbformat_minor": 2
}
