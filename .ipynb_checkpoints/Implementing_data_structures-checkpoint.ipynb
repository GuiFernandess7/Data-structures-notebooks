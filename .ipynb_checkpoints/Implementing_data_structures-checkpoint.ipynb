{
 "cells": [
  {
   "cell_type": "markdown",
   "metadata": {},
   "source": [
    "## Array "
   ]
  },
  {
   "cell_type": "markdown",
   "metadata": {},
   "source": [
    "An array is a data structure that stores elements of the same type in contiguous memory locations. Each element in an array is identified by an index or a key. Arrays provide a straightforward way to represent and manipulate collections of data.\n",
    "\n",
    "* Random Access:\n",
    "        Elements in an array can be directly accessed using their index. This allows for constant-time access to any element, making random access very efficient.\n",
    "\n",
    "*    Memory Efficiency:\n",
    "        Arrays are memory-efficient due to their contiguous memory allocation. The elements are stored in adjacent locations, which reduces memory overhead.\n",
    "\n",
    "*    Simple Implementation:\n",
    "        Arrays are easy to understand and implement. The concept of indexing and direct access simplifies the manipulation of data.\n"
   ]
  },
  {
   "cell_type": "markdown",
   "metadata": {},
   "source": [
    "### Efficiency, Cost, and Time Complexity:\n",
    "\n",
    "Efficiency:\n",
    "\n",
    "    * Arrays are efficient for random access and simple operations. Accessing an element by index is fast (O(1)).\n",
    "\n",
    "Cost:\n",
    "\n",
    " Arrays are generally cost-effective in terms of memory usage, especially when the size is known in advance.\n",
    "\n",
    "Time Complexity:\n",
    "\n",
    "    Accessing an element in an array has a time complexity of O(1). However, insertion and deletion operations in the middle of the array have a time complexity of O(n) due to the need to shift elements."
   ]
  },
  {
   "cell_type": "markdown",
   "metadata": {},
   "source": [
    "![Chart](./imgs/array-tc.png)"
   ]
  },
  {
   "cell_type": "code",
   "execution_count": 100,
   "metadata": {},
   "outputs": [
    {
     "name": "stdout",
     "output_type": "stream",
     "text": [
      "{0: 'whats', 1: 'up', 2: 'dog'}\n"
     ]
    }
   ],
   "source": [
    "class MyCustomList:\n",
    "\n",
    "    def __init__(self):\n",
    "        self.length = 0\n",
    "        self.data = {}\n",
    "\n",
    "    def get(self, index):\n",
    "        \"\"\"Lookup | O(1)\"\"\"\n",
    "        if not self.length:\n",
    "            return\n",
    "        return self.data[index]\n",
    "\n",
    "    def push(self, item):\n",
    "        \"\"\"Push | O(1)\"\"\"\n",
    "        self.data[self.length] = item\n",
    "        self.length += 1\n",
    "\n",
    "    def pop(self):\n",
    "        \"\"\"Pop | O(1)\"\"\"\n",
    "        last_item = self.data[self.length-1]\n",
    "        del self.data[self.length-1]\n",
    "        self.length -= 1\n",
    "        return last_item\n",
    "\n",
    "    def delete(self, index):\n",
    "        \"\"\"Delete | O(n)\"\"\"\n",
    "        self._shift_items(index)\n",
    "\n",
    "    def insert(self, index, value):\n",
    "        \"\"\"Insert | O(n)\"\"\"\n",
    "        for i in range(self.length, index, - 1): # Make a room for the new value\n",
    "            self.data[i] = self.data[i - 1]\n",
    "        self.data[index] = value\n",
    "        self.length += 1\n",
    "\n",
    "    def _shift_items(self, index):\n",
    "        for i in range(index, self.length - 1):\n",
    "            self.data[i] = self.data[i+1]\n",
    "        del self.data[self.length-1]\n",
    "        self.length -= 1\n",
    "\n",
    "    def __repr__(self):\n",
    "        return repr(self.data)\n",
    "\n",
    "custom_list = MyCustomList()\n",
    "custom_list.push('hi')\n",
    "custom_list.push('how')\n",
    "custom_list.push('are')\n",
    "custom_list.push('you?')\n",
    "\n",
    "custom_list.delete(0)\n",
    "custom_list.delete(1)\n",
    "custom_list.delete(2)\n",
    "custom_list.delete(3)\n",
    "\n",
    "custom_list.insert(0, 'whats')\n",
    "custom_list.insert(1, 'up')\n",
    "custom_list.insert(2, 'dog')\n",
    "\n",
    "print(custom_list)"
   ]
  },
  {
   "cell_type": "markdown",
   "metadata": {},
   "source": [
    "## Hash Map"
   ]
  },
  {
   "cell_type": "markdown",
   "metadata": {},
   "source": [
    "A hash table, also known as a hash map, is a data structure that allows the efficient storage and retrieval of key-value pairs. It is based on the idea of using a hash function to map keys to indices in an array, where the associated values are stored. This mapping allows for constant-time average case complexity for search, insert, and delete operations.\n",
    "\n",
    "Key Components:\n",
    "\n",
    "*    Array: Hash tables use an array to store data. Each index in the array corresponds to a \"bucket\" where key-value pairs may be stored.\n",
    "\n",
    "*    Hash Function: A hash function takes a key as input and returns an index in the array where the corresponding value should be stored. The goal is to distribute the keys uniformly across the array, minimizing collisions (two keys mapping to the same index).\n",
    "\n",
    "*    Collision Resolution: Collisions occur when two keys hash to the same index. Various techniques, such as chaining (using linked lists at each index) or open addressing (finding the next available slot in the array), are employed to resolve collisions.\n",
    "\n",
    "Operations:\n",
    "\n",
    "*    Insertion (or Update): Compute the hash of the key, find the corresponding index in the array, and insert the key-value pair at that index.\n",
    "\n",
    "*    Retrieval: Given a key, compute its hash, find the corresponding index, and retrieve the associated value. This operation has an average-case time complexity of O(1).\n",
    "\n",
    "*    Deletion: Similar to retrieval, compute the hash of the key, find the corresponding index, and remove the key-value pair from that index.\n",
    "\n",
    "Advantages:\n",
    "\n",
    "*    Fast Average-Case Performance: Hash tables provide constant-time average-case complexity for key-based operations, making them highly efficient for search, insert, and delete operations.\n",
    "\n",
    "*    Flexible Key Types: Hash tables can handle a wide range of key types, including integers, strings, and more complex objects.\n",
    "\n",
    "Challenges:\n",
    "\n",
    "*    Collisions: Collisions can occur when two keys hash to the same index. Efficient collision resolution strategies are crucial for maintaining performance.\n",
    "\n",
    "*   Deterministic Hash Function: For hash tables to work effectively, the hash function should be deterministic, meaning the same input key will always produce the same hash value.\n",
    "\n",
    "*    Memory Usage: Hash tables may consume more memory than other data structures due to the need for an array large enough to accommodate potential keys."
   ]
  },
  {
   "cell_type": "markdown",
   "metadata": {},
   "source": [
    "![Chart](./imgs/hash-table.png)"
   ]
  },
  {
   "cell_type": "markdown",
   "metadata": {},
   "source": [
    "* ### Time Complexity:\n",
    "\n",
    "![Chart](./imgs/hash_table-tc.png)"
   ]
  },
  {
   "cell_type": "markdown",
   "metadata": {},
   "source": [
    "#### Simple Hash Function"
   ]
  },
  {
   "cell_type": "code",
   "execution_count": 1,
   "metadata": {},
   "outputs": [
    {
     "data": {
      "text/plain": [
       "9"
      ]
     },
     "execution_count": 1,
     "metadata": {},
     "output_type": "execute_result"
    }
   ],
   "source": [
    "def get_hash(key):\n",
    "    h = 0\n",
    "    for char in key:\n",
    "        h += ord(char)\n",
    "    return h % 100\n",
    "\n",
    "get_hash('march 6')"
   ]
  },
  {
   "cell_type": "markdown",
   "metadata": {},
   "source": [
    "#### Simple Hash Table"
   ]
  },
  {
   "cell_type": "code",
   "execution_count": 4,
   "metadata": {},
   "outputs": [],
   "source": [
    "class HashTable:\n",
    "    \"\"\"Hash Table | O(1)\"\"\"\n",
    "\n",
    "    def __init__(self):\n",
    "        self.MAX = 100\n",
    "        self.arr = [None for i in range(self.MAX)]\n",
    "\n",
    "    def get_hash(self, key):\n",
    "        h = 0\n",
    "        for char in key:\n",
    "            h += ord(char)\n",
    "        return h % self.MAX\n",
    "\n",
    "    def __setitem__(self, key, val):\n",
    "        h = self.get_hash(key)\n",
    "        self.arr[h] = val\n",
    "\n",
    "    def __getitem__(self, key):\n",
    "        h = self.get_hash(key)\n",
    "        return self.arr[h]\n",
    "\n",
    "    def __delitem__(self, key):\n",
    "        h = self.get_hash(key)\n",
    "        self.arr[h] = None"
   ]
  },
  {
   "cell_type": "markdown",
   "metadata": {},
   "source": [
    "#### Extracting the hash value from a key"
   ]
  },
  {
   "cell_type": "code",
   "execution_count": 5,
   "metadata": {},
   "outputs": [
    {
     "data": {
      "text/plain": [
       "9"
      ]
     },
     "execution_count": 5,
     "metadata": {},
     "output_type": "execute_result"
    }
   ],
   "source": [
    "t = HashTable()\n",
    "t.get_hash('march 6')"
   ]
  },
  {
   "cell_type": "markdown",
   "metadata": {},
   "source": [
    "#### Creating key and value for hash table"
   ]
  },
  {
   "cell_type": "code",
   "execution_count": null,
   "metadata": {},
   "outputs": [],
   "source": [
    "t['march 6'] = 130\n",
    "t['march 1'] = 20\n",
    "t.arr"
   ]
  },
  {
   "cell_type": "markdown",
   "metadata": {},
   "source": [
    "#### Accessing value from key"
   ]
  },
  {
   "cell_type": "code",
   "execution_count": 19,
   "metadata": {},
   "outputs": [
    {
     "data": {
      "text/plain": [
       "130"
      ]
     },
     "execution_count": 19,
     "metadata": {},
     "output_type": "execute_result"
    }
   ],
   "source": [
    "t['march 6']"
   ]
  },
  {
   "cell_type": "markdown",
   "metadata": {},
   "source": [
    "### Handling collisions"
   ]
  },
  {
   "cell_type": "markdown",
   "metadata": {},
   "source": [
    "Collision handling in hash maps refers to the situation where two or more keys hash to the same location, causing a conflict. In simple terms, it's like having multiple keys trying to occupy the same slot in a storage space.\n",
    "\n",
    "To handle collisions, there are different strategies:\n",
    "\n",
    "1. Chaining: Instead of storing a single value in a hash table slot, we store a linked list of values. When a collision occurs, new elements are added to the linked list at that slot.\n",
    "\n",
    "2. Open Addressing: In this approach, when a collision happens, the algorithm looks for the next available slot in the vicinity. It might be the next slot or found by a specific probing sequence.\n",
    "\n",
    "These methods help ensure that even if multiple keys hash to the same location, the hash map can still store and retrieve the values associated with each key. It's like having a backup plan for when two or more keys want to occupy the same address in the hash map."
   ]
  },
  {
   "cell_type": "markdown",
   "metadata": {},
   "source": [
    "#### Chaining "
   ]
  },
  {
   "cell_type": "code",
   "execution_count": 127,
   "metadata": {},
   "outputs": [],
   "source": [
    "class HashTable2:\n",
    "    \"\"\"Hash Table with Chaining | O(n) or O(1)\"\"\"\n",
    "\n",
    "    def __init__(self):\n",
    "        self.MAX = 10\n",
    "        self.arr = [[] for i in range(self.MAX)]\n",
    "\n",
    "    def get_hash(self, key):\n",
    "        h = 0\n",
    "        for char in key:\n",
    "            h += ord(char)\n",
    "        return h % self.MAX\n",
    "\n",
    "    def __setitem__(self, key, val):\n",
    "        h = self.get_hash(key)\n",
    "        found = False\n",
    "        for idx, element in enumerate(self.arr[h]):\n",
    "            if len(element) == 2 and element[0] == key:\n",
    "                self.arr[h][idx] = (key, val)\n",
    "                found = True\n",
    "        if not found:\n",
    "            self.arr[h].append((key, val))\n",
    "\n",
    "    def __getitem__(self, key):\n",
    "        h = self.get_hash(key)\n",
    "        if self.arr[h]:\n",
    "            for element in self.arr[h]:\n",
    "                if element[0] == key:\n",
    "                    return element[1]\n",
    "\n",
    "    def __delitem__(self, key):\n",
    "        h = self.get_hash(key)\n",
    "        for idx, element in enumerate(self.arr[h]):\n",
    "            if element[0] == key:\n",
    "                del self.arr[h][idx]\n",
    "        self.arr[h] = None"
   ]
  },
  {
   "cell_type": "code",
   "execution_count": 129,
   "metadata": {},
   "outputs": [
    {
     "data": {
      "text/plain": [
       "[[], [], [], [], [('abcd', 12), ('dbac', 15)], [], [], [], [], []]"
      ]
     },
     "execution_count": 129,
     "metadata": {},
     "output_type": "execute_result"
    }
   ],
   "source": [
    "hash_table = HashTable2()\n",
    "hash_table['abcd'] = 12\n",
    "hash_table['dbac'] = 15\n",
    "\n",
    "hash_table.arr"
   ]
  },
  {
   "cell_type": "markdown",
   "metadata": {},
   "source": [
    "### Linear Probing | Open Addressing"
   ]
  },
  {
   "cell_type": "markdown",
   "metadata": {},
   "source": [
    "##### Solution 1"
   ]
  },
  {
   "cell_type": "code",
   "execution_count": 152,
   "metadata": {},
   "outputs": [],
   "source": [
    "class HashTable3:\n",
    "    \"\"\"Hash Table with linear probing | O(n) or O(1)\"\"\"\n",
    "\n",
    "    def __init__(self):\n",
    "        self.MAX = 10\n",
    "        self.arr = [[] for i in range(self.MAX)]\n",
    "        self.position = 0\n",
    "\n",
    "    def get_hash(self, key):\n",
    "        h = 0\n",
    "        for char in key:\n",
    "            h += ord(char)\n",
    "        return h % self.MAX\n",
    "\n",
    "    def __setitem__(self, key, val):\n",
    "        h = self.get_hash(key)\n",
    "        filled = False\n",
    "        while h < self.MAX:\n",
    "            if self.arr[h]:\n",
    "                if all(sub for sub in self.arr):\n",
    "                    raise Exception(\"HashMap Full\")\n",
    "\n",
    "                if key in self.arr[h]:\n",
    "                    break\n",
    "\n",
    "                filled = True\n",
    "                h += 1\n",
    "                if h == self.MAX:\n",
    "                    h = 0\n",
    "\n",
    "            else:\n",
    "                filled = False\n",
    "                break\n",
    "\n",
    "        if not filled:\n",
    "            self.arr[h] = (key, val)\n",
    "\n",
    "\n",
    "    def __getitem__(self, key):\n",
    "        h = self.get_hash(key)\n",
    "        if self.arr[h]:\n",
    "            for element in self.arr:\n",
    "                if element[0][0] == key:\n",
    "                    return element[1]\n",
    "\n",
    "    def __delitem__(self, key):\n",
    "        h = self.get_hash(key)\n",
    "        for idx, element in enumerate(self.arr):\n",
    "            if element[0][0] == key:\n",
    "                del self.arr[h][idx]\n",
    "        self.arr[h] = None"
   ]
  },
  {
   "cell_type": "code",
   "execution_count": 153,
   "metadata": {},
   "outputs": [
    {
     "data": {
      "text/plain": [
       "[('cxbda', 15),\n",
       " [],\n",
       " [],\n",
       " [],\n",
       " ('abcxd', 1),\n",
       " ('bxdca', 9),\n",
       " ('caxdb', 3),\n",
       " ('adxbc', 2),\n",
       " ('cbdax', 11),\n",
       " ('xabdc', 13)]"
      ]
     },
     "execution_count": 153,
     "metadata": {},
     "output_type": "execute_result"
    }
   ],
   "source": [
    "hash_table = HashTable3()\n",
    "hash_table[\"abcxd\"] = 1\n",
    "hash_table[\"bxdca\"] = 9\n",
    "hash_table[\"caxdb\"] = 3\n",
    "hash_table[\"adxbc\"] = 2\n",
    "hash_table[\"cbdax\"] = 11\n",
    "hash_table[\"xabdc\"] = 13\n",
    "hash_table[\"cxbda\"] = 15\n",
    "\n",
    "hash_table.arr"
   ]
  },
  {
   "cell_type": "markdown",
   "metadata": {},
   "source": [
    "##### Solution 2"
   ]
  },
  {
   "cell_type": "code",
   "execution_count": 155,
   "metadata": {},
   "outputs": [
    {
     "name": "stdout",
     "output_type": "stream",
     "text": [
      "[5, 6, 0, 1, 2, 3, 4]\n"
     ]
    }
   ],
   "source": [
    "arr = [1,2, 3, 4, 5, 6, 7]\n",
    "\n",
    "def get_prob_range(index, arr):\n",
    "    return [*range(index, len(arr))] + [*range(0,index)]\n",
    "\n",
    "print(get_prob_range(5, arr))"
   ]
  },
  {
   "cell_type": "code",
   "execution_count": 164,
   "metadata": {},
   "outputs": [],
   "source": [
    "class HashTable4:\n",
    "    \"\"\"Hash Table with linear probing | O(n) or O(1)\"\"\"\n",
    "\n",
    "    def __init__(self) -> None:\n",
    "        self.MAX = 10\n",
    "        self.arr = [None for i in range(self.MAX)]\n",
    "\n",
    "    def __setitem__(self, key, value) -> None:\n",
    "        h = self._get_hash(key)\n",
    "        if self.arr[h] is None:\n",
    "            self.arr[h] = (key, value)\n",
    "        else:\n",
    "            new_h = self._find_slot(key, h)\n",
    "            self.arr[new_h] = (key, value)\n",
    "\n",
    "    def __getitem__(self, key):\n",
    "        h = self._get_hash(key)\n",
    "        if self.arr[h] is None:\n",
    "            return\n",
    "        prob_range = self._get_prob_range(key)\n",
    "        for idx in prob_range:\n",
    "            element = self.arr[idx]\n",
    "            if element is None:\n",
    "                return\n",
    "            if element[0] == key:\n",
    "                return element[1]\n",
    "\n",
    "    def __delitem__(self, key):\n",
    "        h = self._get_hash(key)\n",
    "        prob_range = self._get_prob_range(h)\n",
    "        for idx in prob_range:\n",
    "            if self.arr in prob_range:\n",
    "                if self.arr[prob_range] is None:\n",
    "                    raise Exception(\"Key not found\")\n",
    "                if self.arr[idx][0] == key:\n",
    "                    self.arr[idx] = None\n",
    "        print(self.arr)\n",
    "\n",
    "    def _get_hash(self, key):\n",
    "        hash = 0\n",
    "        for idx in key:\n",
    "            hash += ord(idx)\n",
    "        return hash % self.MAX\n",
    "\n",
    "    def _get_prob_range(self, index):\n",
    "        return [*range(index, len(self.arr))] + [*range(0,index)]\n",
    "\n",
    "    def _find_slot(self, key, h):\n",
    "        prob_range = self._get_prob_range(h)\n",
    "        for idx in prob_range:\n",
    "            if self.arr[idx] is None:\n",
    "                return idx\n",
    "            if self.arr[idx][0] == key:\n",
    "                return idx\n",
    "        raise Exception(\"HashMap Full\")"
   ]
  },
  {
   "cell_type": "code",
   "execution_count": 166,
   "metadata": {},
   "outputs": [
    {
     "data": {
      "text/plain": [
       "[('cxbda', 17),\n",
       " None,\n",
       " None,\n",
       " None,\n",
       " ('abcxd', 1),\n",
       " ('bxdca', 9),\n",
       " ('caxdb', 3),\n",
       " ('adxbc', 2),\n",
       " ('cbdax', 11),\n",
       " ('xabdc', 13)]"
      ]
     },
     "execution_count": 166,
     "metadata": {},
     "output_type": "execute_result"
    }
   ],
   "source": [
    "hash_table = HashTable4()\n",
    "hash_table[\"abcxd\"] = 1\n",
    "hash_table[\"bxdca\"] = 9\n",
    "hash_table[\"caxdb\"] = 3\n",
    "hash_table[\"adxbc\"] = 2\n",
    "hash_table[\"cbdax\"] = 11\n",
    "hash_table[\"xabdc\"] = 13\n",
    "hash_table[\"cxbda\"] = 17\n",
    "\n",
    "hash_table.arr"
   ]
  },
  {
   "cell_type": "markdown",
   "metadata": {},
   "source": [
    "## Linked Lists"
   ]
  },
  {
   "cell_type": "markdown",
   "metadata": {},
   "source": [
    "Linked list is a linear and dynamic data structure. It is composed of a sequence of nodes or cells that contain their data and also one or two pointers (\"links\") pointing to the previous or next node. Linked lists are useful for representing dynamic sets of data. In other words, you do not need to define a maximum size for a linked list."
   ]
  },
  {
   "attachments": {
    "linked_lists.png": {
     "image/png": "[encoded data removed]"
    }
   },
   "cell_type": "markdown",
   "metadata": {},
   "source": [
    "![linked_lists.png](attachment:linked_lists.png)"
   ]
  },
  {
   "cell_type": "code",
   "execution_count": 41,
   "metadata": {},
   "outputs": [
    {
     "name": "stdout",
     "output_type": "stream",
     "text": [
      "4 --> 0 --> \n"
     ]
    }
   ],
   "source": [
    "class Node:\n",
    "    def __init__(self, data=None, next=None):\n",
    "        self.data = data\n",
    "        self.next = next\n",
    "\n",
    "class LinkedList:\n",
    "    def __init__(self):\n",
    "        self.head = None\n",
    "\n",
    "    def add(self, data):\n",
    "        node = Node(data, self.head)\n",
    "        self.head = node\n",
    "        # head -> Node(4, Node(0, None))\n",
    "\n",
    "    def print(self):\n",
    "        itr = self.head\n",
    "        llstr = ''\n",
    "        while itr:\n",
    "            llstr += str(itr.data) + ' --> '\n",
    "            itr = itr.next\n",
    "        print(llstr)\n",
    "\n",
    "ll = LinkedList()\n",
    "ll.add(0)\n",
    "ll.add(4)\n",
    "ll.print()"
   ]
  },
  {
   "attachments": {
    "image.png": {
     "image/png": "[encoded data removed]"
    }
   },
   "cell_type": "markdown",
   "metadata": {},
   "source": [
    "![image.png](attachment:image.png)"
   ]
  },
  {
   "cell_type": "code",
   "execution_count": 51,
   "metadata": {},
   "outputs": [],
   "source": [
    "class Node:\n",
    "    def __init__(self, d, n) -> None:\n",
    "        self.data = d\n",
    "        self.next = n\n",
    "\n",
    "class LinkedList:\n",
    "    def __init__(self) -> None:\n",
    "        self.head = None\n",
    "\n",
    "    def prepend(self, value):\n",
    "        \"\"\"O (1)\"\"\"\n",
    "        node = Node(value, self.head)\n",
    "        self.head = node\n",
    "\n",
    "    def append(self, value):\n",
    "        \"\"\"O (n)\"\"\"\n",
    "        if self.head is None:\n",
    "            self.head = Node(value, None)\n",
    "            return\n",
    "\n",
    "        itr = self.head\n",
    "        while itr.next:\n",
    "            itr = itr.next\n",
    "\n",
    "        itr.next = Node(value, None)\n",
    "\n",
    "    @property\n",
    "    def size(self):\n",
    "        \"\"\"O (n)\"\"\"\n",
    "        if self.head is None:\n",
    "            return None\n",
    "\n",
    "        count = 0\n",
    "        itr = self.head\n",
    "        while itr:\n",
    "            itr = itr.next\n",
    "            count += 1\n",
    "        return count\n",
    "\n",
    "    def __repr__(self):\n",
    "        \"\"\"Lookup | O(n)\"\"\"\n",
    "        if self.head is None:\n",
    "            return \"Gatcha!\"\n",
    "\n",
    "        acc_items = ()\n",
    "        itr = self.head\n",
    "        while itr:\n",
    "            acc_items += (itr.data,)\n",
    "            itr = itr.next\n",
    "        return repr(acc_items)\n",
    "\n",
    "    def insert(self, index, value):\n",
    "        \"\"\"O (n)\"\"\"\n",
    "        if index < 0 or index > self.size:\n",
    "            raise Exception('Invalid Index')\n",
    "\n",
    "        if index == 0:\n",
    "            self.prepend(value)\n",
    "\n",
    "        count = 0\n",
    "        itr = self.head\n",
    "        while itr:\n",
    "            if count == index - 1:\n",
    "                node = Node(value, itr.next)\n",
    "                itr.next = node\n",
    "                break\n",
    "\n",
    "            itr = itr.next\n",
    "            count += 1"
   ]
  },
  {
   "cell_type": "code",
   "execution_count": 55,
   "metadata": {},
   "outputs": [
    {
     "data": {
      "text/plain": [
       "(2, 1, 8)"
      ]
     },
     "execution_count": 55,
     "metadata": {},
     "output_type": "execute_result"
    }
   ],
   "source": [
    "my_linked_list = LinkedList()\n",
    "my_linked_list.append(1)\n",
    "my_linked_list.prepend(2)\n",
    "my_linked_list.append(8)\n",
    "my_linked_list"
   ]
  }
 ],
 "metadata": {
  "kernelspec": {
   "display_name": "Python 3 (ipykernel)",
   "language": "python",
   "name": "python3"
  },
  "language_info": {
   "codemirror_mode": {
    "name": "ipython",
    "version": 3
   },
   "file_extension": ".py",
   "mimetype": "text/x-python",
   "name": "python",
   "nbconvert_exporter": "python",
   "pygments_lexer": "ipython3",
   "version": "3.10.7"
  }
 },
 "nbformat": 4,
 "nbformat_minor": 2
}
