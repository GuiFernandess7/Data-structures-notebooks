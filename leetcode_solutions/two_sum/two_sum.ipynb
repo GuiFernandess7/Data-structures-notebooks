{
 "cells": [
  {
   "cell_type": "code",
   "execution_count": 10,
   "metadata": {},
   "outputs": [
    {
     "name": "stdout",
     "output_type": "stream",
     "text": [
      "{0, 1}\n"
     ]
    }
   ],
   "source": [
    "\"\"\"\n",
    "Given an array of integers nums and an integer target,\n",
    "return indices of the two numbers such that they add up to target.\n",
    "You may assume that each input would have exactly one solution,\n",
    "and you may not use the same element twice.\n",
    "You can return the answer in any order.\n",
    "\"\"\"\n",
    "\n",
    "# BAD\n",
    "from typing import List\n",
    "from functools import reduce\n",
    "\n",
    "array_result = []\n",
    "\n",
    "# O(n^2)\n",
    "def two_sum(array: List[int], target: int):\n",
    "    for ind1, i in enumerate(array):\n",
    "        for ind2, j in enumerate(array):\n",
    "            result = i + j\n",
    "            if result == target:\n",
    "                array_result.append(ind1)\n",
    "                array_result.append(ind2)\n",
    "    return set(array_result)\n",
    "\n",
    "array = [2, 4, 8, 12]\n",
    "print(two_sum(array, target=6))"
   ]
  },
  {
   "cell_type": "code",
   "execution_count": 68,
   "metadata": {},
   "outputs": [
    {
     "name": "stdout",
     "output_type": "stream",
     "text": [
      "[1, 2]\n"
     ]
    }
   ],
   "source": [
    "# BETTER\n",
    "from typing import List, Tuple\n",
    "from itertools import combinations\n",
    "\n",
    "array_result = set()\n",
    "target = 6\n",
    "\n",
    "def get_combinations(array: List[int]):\n",
    "    if len(array) < 2:\n",
    "        return []\n",
    "\n",
    "    comb = combinations(array, 2)\n",
    "    return comb\n",
    "\n",
    "array = [3,2,4]\n",
    "for combination_pair in get_combinations(array):\n",
    "    if sum(combination_pair) == target:\n",
    "        array_result = set(\n",
    "            i for i, x in enumerate(array) if x in combination_pair)\n",
    "\n",
    "print(list(array_result))"
   ]
  },
  {
   "cell_type": "code",
   "execution_count": 46,
   "metadata": {},
   "outputs": [
    {
     "name": "stdout",
     "output_type": "stream",
     "text": [
      "[0, 1]\n"
     ]
    }
   ],
   "source": [
    "array = [3, 3]\n",
    "combination_pair = [3, 3]\n",
    "array_result = []\n",
    "\n",
    "for element in combination_pair:\n",
    "    indices = [i for i, x in enumerate(array) if x == element]\n",
    "\n",
    "print(indices)"
   ]
  },
  {
   "cell_type": "markdown",
   "metadata": {},
   "source": [
    "### Resposta Final | Final Reponse"
   ]
  },
  {
   "cell_type": "code",
   "execution_count": 86,
   "metadata": {},
   "outputs": [
    {
     "name": "stdout",
     "output_type": "stream",
     "text": [
      "[0, 1]\n"
     ]
    }
   ],
   "source": [
    "class Solution(object):\n",
    "\n",
    "    def twoSum(self, nums, target):\n",
    "        \"\"\"\n",
    "        :type nums: List[int]\n",
    "        :type target: int\n",
    "        :rtype: List[int]\n",
    "        \"\"\"\n",
    "        result = set()\n",
    "        for combination_pair in self._get_combinations(nums):\n",
    "            if sum(combination_pair) == target:\n",
    "                result = set(\n",
    "                    index for index, value in enumerate(nums) if value in combination_pair\n",
    "                )\n",
    "            return list(result)\n",
    "        return []\n",
    "\n",
    "    def _get_combinations(self, nums: List[int]):\n",
    "        \"\"\"\n",
    "        :type nums: List[int]\n",
    "        \"\"\"\n",
    "        if len(nums) < 2:\n",
    "            raise ValueError('Nums length needs to be greater than 2')\n",
    "\n",
    "        comb = combinations(nums, 2)\n",
    "        return comb\n",
    "\n",
    "if __name__==\"__main__\":\n",
    "    from itertools import combinations_with_replacement\n",
    "    from typing import List, Tuple\n",
    "\n",
    "    s = Solution()\n",
    "    nums = [2,7,11,15]\n",
    "    solution = s.twoSum(nums, 9)\n",
    "    print(solution)\n"
   ]
  },
  {
   "cell_type": "code",
   "execution_count": 115,
   "metadata": {},
   "outputs": [
    {
     "name": "stdout",
     "output_type": "stream",
     "text": [
      "[(3, 3), (3, 5), (5, 5)]\n"
     ]
    }
   ],
   "source": [
    "from itertools import combinations\n",
    "\n",
    "class Solution(object):\n",
    "\n",
    "    def twoSum(self, nums, target):\n",
    "        \"\"\"\n",
    "        :type nums: List[int]\n",
    "        :type target: int\n",
    "        :rtype: List[int]\n",
    "        \"\"\"\n",
    "        result = set()\n",
    "        for combination_pair in self.get_combinations(nums):\n",
    "            if sum(combination_pair) == target:\n",
    "                result = set(\n",
    "                    index for index, value in enumerate(list(dict.fromkeys(nums)))\n",
    "                    if value in combination_pair\n",
    "                )\n",
    "        return list(result)\n",
    "\n",
    "    def get_combinations(self, nums):\n",
    "        \"\"\"\n",
    "        :type nums: List[int]\n",
    "        \"\"\"\n",
    "        if len(nums) < 2:\n",
    "            raise ValueError('Nums length needs to be greater than 2')\n",
    "\n",
    "        comb = combinations(nums, 2)\n",
    "        return list(set(tuple(sorted(t)) for t in comb))\n",
    "\n",
    "if __name__==\"__main__\":\n",
    "    s = Solution()\n",
    "    #print(s.get_combinations([3, 5, 3, 5]))\n",
    "    nums = [3,5,3,5]\n",
    "    solution = s.twoSum(nums, 8)\n",
    "    print(solution)"
   ]
  },
  {
   "cell_type": "code",
   "execution_count": 107,
   "metadata": {},
   "outputs": [
    {
     "name": "stdout",
     "output_type": "stream",
     "text": [
      "{(1, 2), (3, 5)}\n"
     ]
    }
   ],
   "source": [
    "lista_de_tuplas = [(5, 3), (3, 5), (1, 2), (2, 1), (5, 3)]\n",
    "\n",
    "# Remove as duplicatas independentemente da ordem dos elementos nas tuplas\n",
    "lista_sem_duplicatas = set(tuple(sorted(t)) for t in lista_de_tuplas)\n",
    "\n",
    "print(lista_sem_duplicatas)"
   ]
  },
  {
   "cell_type": "code",
   "execution_count": 118,
   "metadata": {},
   "outputs": [
    {
     "data": {
      "text/plain": [
       "[5, 3]"
      ]
     },
     "execution_count": 118,
     "metadata": {},
     "output_type": "execute_result"
    }
   ],
   "source": [
    "items = [5, 3, 5, 3]\n",
    "list(dict.fromkeys(items))"
   ]
  },
  {
   "cell_type": "markdown",
   "metadata": {},
   "source": [
    "### Better Solution"
   ]
  },
  {
   "cell_type": "code",
   "execution_count": 2,
   "metadata": {},
   "outputs": [],
   "source": [
    "class BestSolution(object):\n",
    "    def twoSum(self, nums, target):\n",
    "        \"\"\"\n",
    "        :type nums: List[int]\n",
    "        :type target: int\n",
    "        :rtype: List[int]\n",
    "        \"\"\"\n",
    "        hash_m = {}\n",
    "        n = len(nums)\n",
    "\n",
    "        for i in range(n):\n",
    "            remaining = target - nums[i]\n",
    "            if remaining in hash_m:\n",
    "                return [hash_m[remaining], i]\n",
    "            hash_m[nums[i]] = i\n",
    "\n",
    "        return []"
   ]
  },
  {
   "cell_type": "code",
   "execution_count": 5,
   "metadata": {},
   "outputs": [
    {
     "data": {
      "text/plain": [
       "[]"
      ]
     },
     "execution_count": 5,
     "metadata": {},
     "output_type": "execute_result"
    }
   ],
   "source": [
    "s = BestSolution()\n",
    "s.twoSum([5, 3, 5, 3], 9)"
   ]
  },
  {
   "cell_type": "code",
   "execution_count": null,
   "metadata": {},
   "outputs": [],
   "source": []
  }
 ],
 "metadata": {
  "kernelspec": {
   "display_name": "Python 3",
   "language": "python",
   "name": "python3"
  },
  "language_info": {
   "codemirror_mode": {
    "name": "ipython",
    "version": 3
   },
   "file_extension": ".py",
   "mimetype": "text/x-python",
   "name": "python",
   "nbconvert_exporter": "python",
   "pygments_lexer": "ipython3",
   "version": "3.10.7"
  }
 },
 "nbformat": 4,
 "nbformat_minor": 2
}
