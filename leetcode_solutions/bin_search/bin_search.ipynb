{
 "cells": [
  {
   "cell_type": "code",
   "execution_count": 11,
   "metadata": {},
   "outputs": [
    {
     "data": {
      "text/plain": [
       "4"
      ]
     },
     "execution_count": 11,
     "metadata": {},
     "output_type": "execute_result"
    }
   ],
   "source": [
    "def bin_search(A, left, right, key):\n",
    "    \"\"\"Binary Search - O(log n)\n",
    "\n",
    "    Keyword arguments:\n",
    "    A -- LIST\n",
    "    key -- target value\n",
    "    \"\"\"\n",
    "\n",
    "    while left <= right:\n",
    "        mid  = (left + right) // 2\n",
    "        if A[mid] == key:\n",
    "            return mid\n",
    "        elif A[mid] < key:\n",
    "            left = mid + 1\n",
    "        else:\n",
    "            right = mid - 1\n",
    "    return - 1\n",
    "\n",
    "A = [25, 35, 80, 96, 200, 500, 850, 999]\n",
    "KEY = 200\n",
    "bin_search(A, 0, len(A) - 1, KEY)\n",
    "#print(A.index(200))\n"
   ]
  },
  {
   "cell_type": "code",
   "execution_count": 2,
   "metadata": {},
   "outputs": [
    {
     "data": {
      "text/plain": [
       "4"
      ]
     },
     "execution_count": 2,
     "metadata": {},
     "output_type": "execute_result"
    }
   ],
   "source": [
    "import bisect\n",
    "A = [25, 35, 80, 96, 200, 500, 850, 999]\n",
    "KEY = 200\n",
    "bisect.bisect_left(A, KEY, 0, len(A))"
   ]
  },
  {
   "cell_type": "code",
   "execution_count": 13,
   "metadata": {},
   "outputs": [],
   "source": [
    "def findTargetPair(A, K):\n",
    "    st = set()\n",
    "    for i in range(len(A)):\n",
    "        complement = K - A[i]\n",
    "        if complement in st:\n",
    "            return [complement, A[i]]\n",
    "        else:\n",
    "            st.add(A[i])\n",
    "\n",
    "# 17 - 5 = 12 -> set = {5}\n",
    "# 17 - 100 = -87 -> set = {5, 100}\n",
    "\n",
    "A = [5, 100, 50, 8, 30, 5, 7, 85, 90, 100]\n",
    "K = 17\n",
    "findTargetPair(A, K)"
   ]
  },
  {
   "cell_type": "code",
   "execution_count": null,
   "metadata": {},
   "outputs": [],
   "source": []
  }
 ],
 "metadata": {
  "kernelspec": {
   "display_name": "Python 3",
   "language": "python",
   "name": "python3"
  },
  "language_info": {
   "codemirror_mode": {
    "name": "ipython",
    "version": 3
   },
   "file_extension": ".py",
   "mimetype": "text/x-python",
   "name": "python",
   "nbconvert_exporter": "python",
   "pygments_lexer": "ipython3",
   "version": "3.10.7"
  }
 },
 "nbformat": 4,
 "nbformat_minor": 2
}
